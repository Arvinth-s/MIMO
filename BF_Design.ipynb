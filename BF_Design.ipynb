{
  "nbformat": 4,
  "nbformat_minor": 0,
  "metadata": {
    "colab": {
      "name": "BF-Design.ipynb",
      "provenance": [],
      "authorship_tag": "ABX9TyNHUziJixtuZL8inWf8uL8X",
      "include_colab_link": true
    },
    "kernelspec": {
      "name": "python3",
      "display_name": "Python 3"
    }
  },
  "cells": [
    {
      "cell_type": "markdown",
      "metadata": {
        "id": "view-in-github",
        "colab_type": "text"
      },
      "source": [
        "<a href=\"https://colab.research.google.com/github/Arvinth-s/MIMO/blob/main/BF_Design.ipynb\" target=\"_parent\"><img src=\"https://colab.research.google.com/assets/colab-badge.svg\" alt=\"Open In Colab\"/></a>"
      ]
    },
    {
      "cell_type": "code",
      "metadata": {
        "id": "tWTktWTGu-g2"
      },
      "source": [
        "#OM NAMO NARAYANA"
      ],
      "execution_count": 1,
      "outputs": []
    },
    {
      "cell_type": "code",
      "metadata": {
        "id": "knVn9JP8vEhu"
      },
      "source": [
        "import os\n",
        "import numpy as np\n",
        "import matplotlib.pyplot as plt\n"
      ],
      "execution_count": 2,
      "outputs": []
    },
    {
      "cell_type": "code",
      "metadata": {
        "colab": {
          "base_uri": "https://localhost:8080/"
        },
        "id": "eD9PKYCjvLLt",
        "outputId": "7e1a695a-21b0-480c-d5c6-820bc381201d"
      },
      "source": [
        "from google.colab import drive\n",
        "drive.flush_and_unmount()\n",
        "drive.mount('/content/drive/')"
      ],
      "execution_count": 3,
      "outputs": [
        {
          "output_type": "stream",
          "text": [
            "Drive not mounted, so nothing to flush and unmount.\n",
            "Mounted at /content/drive/\n"
          ],
          "name": "stdout"
        }
      ]
    },
    {
      "cell_type": "code",
      "metadata": {
        "colab": {
          "base_uri": "https://localhost:8080/"
        },
        "id": "p7y4pcvLx_en",
        "outputId": "ab585bbf-975a-4329-97e9-541ddca86f31"
      },
      "source": [
        "os.listdir('/content/drive/MyDrive/data sets')"
      ],
      "execution_count": 4,
      "outputs": [
        {
          "output_type": "execute_result",
          "data": {
            "text/plain": [
              "['20db', '0db', '-20db', 'Lest2', 'Lest1']"
            ]
          },
          "metadata": {
            "tags": []
          },
          "execution_count": 4
        }
      ]
    },
    {
      "cell_type": "code",
      "metadata": {
        "colab": {
          "base_uri": "https://localhost:8080/"
        },
        "id": "-5JfFt9aG2Xo",
        "outputId": "fd3f46a4-9f5e-42b8-c90e-4202541e3c7f"
      },
      "source": [
        "os.listdir('/content/drive/MyDrive/data sets/20db/train')"
      ],
      "execution_count": 6,
      "outputs": [
        {
          "output_type": "execute_result",
          "data": {
            "text/plain": [
              "['ecsi.mat', 'pcsi.mat']"
            ]
          },
          "metadata": {
            "tags": []
          },
          "execution_count": 6
        }
      ]
    },
    {
      "cell_type": "code",
      "metadata": {
        "id": "vTO3UzVQvMY2"
      },
      "source": [
        "target_dir = '/content/drive/MyDrive/data sets/'"
      ],
      "execution_count": 10,
      "outputs": []
    },
    {
      "cell_type": "code",
      "metadata": {
        "id": "zYY26kDvvTa6"
      },
      "source": [
        "import torch.nn as nn\n",
        "import torch.nn.functional as  F\n",
        "from torch import optim\n",
        "import torch"
      ],
      "execution_count": null,
      "outputs": []
    },
    {
      "cell_type": "code",
      "metadata": {
        "id": "Z1KcxB39vVds"
      },
      "source": [
        "import random\n",
        "import math\n",
        "import cmath\n",
        "import scipy.io as sio"
      ],
      "execution_count": 8,
      "outputs": []
    },
    {
      "cell_type": "code",
      "metadata": {
        "id": "l66Ark8ivW4s"
      },
      "source": [
        "\n",
        "H = sio.loadmat(target_dir + 'BF_Design/train/pcsi.mat')\n",
        "H_est = sio.loadmat(target_dir + 'BF_Design/train/ecsi.mat')\n",
        "print(H)"
      ],
      "execution_count": null,
      "outputs": []
    },
    {
      "cell_type": "code",
      "metadata": {
        "id": "nIBt-A_Uwqkm",
        "colab": {
          "base_uri": "https://localhost:8080/"
        },
        "outputId": "119aeec7-ad55-4c7c-d7ea-216b0318dad7"
      },
      "source": [
        "H_20 = []\n",
        "H_20 = sio.loadmat(target_dir + '20db/train/pcsi.mat')\n",
        "H_20_est = sio.loadmat(target_dir + '20db/train/ecsi.mat')\n",
        "print(H_20)\n",
        "print(H_20['pcsi'].shape)\n",
        "print(H_20_est)"
      ],
      "execution_count": 47,
      "outputs": [
        {
          "output_type": "stream",
          "text": [
            "{'__header__': b'MATLAB 5.0 MAT-file, Platform: PCWIN64, Created on: Sat Apr 20 13:04:58 2019', '__version__': '1.0', '__globals__': [], 'pcsi': array([[[ 1.50147694+0.44686848j,  1.20796114-0.96018607j,\n",
            "         -0.11359252-1.463618j  , ...,  0.42528519-0.58007624j,\n",
            "         -0.25945843-0.77886998j, -0.84394454-0.29822516j]],\n",
            "\n",
            "       [[ 0.38892007-0.32636459j,  0.29823891+0.2183917j ,\n",
            "          0.66302605+0.63223397j, ...,  1.15716358+0.06924648j,\n",
            "          0.71931132+0.16306212j,  0.59819429+0.53650335j]],\n",
            "\n",
            "       [[ 0.83594924-0.44808131j,  0.98906444-1.006238j  ,\n",
            "          0.54324663-1.05449685j, ..., -0.53927657+0.08589144j,\n",
            "         -0.60645661+0.96209394j, -0.34886921+1.23299291j]],\n",
            "\n",
            "       ...,\n",
            "\n",
            "       [[ 0.52511091-0.15074378j,  0.24452902+0.69684149j,\n",
            "         -0.66109416+0.94840944j, ...,  0.67964394+0.11438444j,\n",
            "         -0.07755882+0.76458209j, -1.06284711+0.47990537j]],\n",
            "\n",
            "       [[ 1.1192355 +0.29365041j,  0.77098107+0.50310646j,\n",
            "          0.62200443+0.52450842j, ..., -0.96285146-0.02561318j,\n",
            "         -0.77018226-0.14563102j, -0.80578454-0.21612901j]],\n",
            "\n",
            "       [[ 0.46243206-0.52842496j, -0.51733332-1.39604295j,\n",
            "         -1.65922283-0.51889583j, ...,  1.10892469+0.24987298j,\n",
            "          1.08962554-1.01901591j, -0.32534449-1.24584299j]]])}\n",
            "(100000, 1, 64)\n",
            "{'__header__': b'MATLAB 5.0 MAT-file, Platform: PCWIN64, Created on: Sat Apr 20 13:05:00 2019', '__version__': '1.0', '__globals__': [], 'ecsi': array([[[ 0.23802253+0.25113406j,  0.42887573-0.02469144j,\n",
            "          0.26795419-0.36158092j, ...,  0.02500356-0.33881759j,\n",
            "         -0.34780979-0.31068452j, -0.51624931+0.10657654j]],\n",
            "\n",
            "       [[ 0.89624862+0.55152703j,  1.11260075+0.46394413j,\n",
            "          1.16742957+0.23706792j, ...,  1.16171191+0.37722377j,\n",
            "          1.12554537+0.14663541j,  0.91704618+0.04172068j]],\n",
            "\n",
            "       [[ 0.82018111+0.39675167j,  0.87682556-0.25179811j,\n",
            "          0.48824744-0.77410097j, ..., -0.80887751+0.43773745j,\n",
            "         -0.30765019+0.86149316j,  0.3457575 +0.84381794j]],\n",
            "\n",
            "       ...,\n",
            "\n",
            "       [[-0.34656997-0.43389903j,  0.14311387-0.46893641j,\n",
            "          0.40752959-0.12066527j, ..., -0.43777058+0.20445367j,\n",
            "         -0.47172495-0.2794098j , -0.04653033-0.61057558j]],\n",
            "\n",
            "       [[-0.49238976+0.42933761j, -0.25979978-0.16573486j,\n",
            "          0.3663441 -0.31970805j, ..., -0.64095385-0.27554749j,\n",
            "         -0.02827254-0.35544315j,  0.4036696 +0.12996987j]],\n",
            "\n",
            "       [[ 1.79127398-1.2768304j ,  1.05494336-1.78677505j,\n",
            "          0.20034753-1.90070067j, ...,  0.24480978-2.42817903j,\n",
            "         -0.83739274-2.43955001j, -1.83364327-1.94349293j]]])}\n"
          ],
          "name": "stdout"
        }
      ]
    },
    {
      "cell_type": "code",
      "metadata": {
        "id": "SKoWSa7NHJYO"
      },
      "source": [
        "import numpy as np\n",
        "# from utils import *\n",
        "from tensorflow.python.keras.layers import *\n",
        "from matplotlib import pyplot as plt\n",
        "import tensorflow as tf\n",
        "import keras.backend as k"
      ],
      "execution_count": 29,
      "outputs": []
    },
    {
      "cell_type": "code",
      "metadata": {
        "colab": {
          "base_uri": "https://localhost:8080/"
        },
        "id": "jyFMKbcLInrc",
        "outputId": "4b47a430-7607-4c57-ea59-98ef29f238d0"
      },
      "source": [
        "H_20input = np.expand_dims(np.concatenate([np.real(H_20_est['ecsi']), np.imag(H_20_est['ecsi'])], 1), 1)\n",
        "# H_20 = np.squeeze(H_20['pcsi'])\n",
        "SNR = np.power(10, np.random.randint(-20, 20, [H_20.shape[0], 1]) / 10)\n",
        "print(H_20input.shape)\n",
        "print(H_20.shape)"
      ],
      "execution_count": 56,
      "outputs": [
        {
          "output_type": "stream",
          "text": [
            "(100000, 1, 2, 64)\n",
            "(100000, 64)\n"
          ],
          "name": "stdout"
        }
      ]
    },
    {
      "cell_type": "code",
      "metadata": {
        "id": "Y40l-KqXJnmh"
      },
      "source": [
        "Nt = 64  # the number of antennas\n",
        "P = 1   # the normalized transmit power\n",
        "\n",
        "\n",
        "def trans_Vrf(temp):\n",
        "    v_real = tf.cos(temp)\n",
        "    v_imag = tf.sin(temp)\n",
        "    vrf = tf.cast(tf.complex(v_real, v_imag), tf.complex64)\n",
        "    return vrf\n",
        "\n",
        "\n",
        "def Rate_func(temp):\n",
        "    h, v, SNR_input = temp\n",
        "    hv = k.batch_dot(\n",
        "        tf.cast(h, tf.complex64), tf.transpose(a=v, perm=[1, 0]))\n",
        "    rate = tf.math.log(tf.cast(1 + SNR_input / Nt * tf.pow(tf.abs(hv), 2), tf.float32)) / tf.math.log(2.0)\n",
        "    return -rate"
      ],
      "execution_count": 30,
      "outputs": []
    },
    {
      "cell_type": "code",
      "metadata": {
        "colab": {
          "base_uri": "https://localhost:8080/"
        },
        "id": "R049IcSTIXc3",
        "outputId": "c0c77729-f730-44a8-b2eb-e81585bf2659"
      },
      "source": [
        "imperfect_CSI = Input(name='imperfect_CSI', shape=(H_20input.shape[1:4]), dtype=tf.float32)\n",
        "# perfect_CSI is only used to compute the loss, and not required in prediction\n",
        "perfect_CSI = Input(name='perfect_CSI', shape=(H_20.shape[1],), dtype=tf.complex64)\n",
        "# the SNR is also fed into the BFNN\n",
        "SNR_input = Input(name='SNR_input', shape=(1,), dtype=tf.float32)\n",
        "temp = BatchNormalization()(imperfect_CSI)\n",
        "temp = Flatten()(temp)\n",
        "temp = BatchNormalization()(temp)\n",
        "temp = Dense(256, activation='relu')(temp)\n",
        "temp = BatchNormalization()(temp)\n",
        "temp = Dense(128, activation='relu')(temp)\n",
        "phase = Dense(Nt)(temp)\n",
        "V_RF = Lambda(trans_Vrf, dtype=tf.complex64, output_shape=(Nt,))(phase)\n",
        "rate = Lambda(Rate_func, dtype=tf.float32, output_shape=(1,))([perfect_CSI, V_RF, SNR_input])\n",
        "model = tf.keras.Model(inputs=[imperfect_CSI, perfect_CSI, SNR_input], outputs=rate)\n",
        "# the y_pred is the actual rate, thus the loss is y_pred, without labels\n",
        "model.compile(optimizer='adam', loss=lambda y_true, y_pred: y_pred)\n",
        "model.summary()"
      ],
      "execution_count": 49,
      "outputs": [
        {
          "output_type": "stream",
          "text": [
            "Model: \"functional_5\"\n",
            "__________________________________________________________________________________________________\n",
            "Layer (type)                    Output Shape         Param #     Connected to                     \n",
            "==================================================================================================\n",
            "imperfect_CSI (InputLayer)      [(None, 1, 2, 64)]   0                                            \n",
            "__________________________________________________________________________________________________\n",
            "batch_normalization_15 (BatchNo (None, 1, 2, 64)     256         imperfect_CSI[0][0]              \n",
            "__________________________________________________________________________________________________\n",
            "flatten_5 (Flatten)             (None, 128)          0           batch_normalization_15[0][0]     \n",
            "__________________________________________________________________________________________________\n",
            "batch_normalization_16 (BatchNo (None, 128)          512         flatten_5[0][0]                  \n",
            "__________________________________________________________________________________________________\n",
            "dense_14 (Dense)                (None, 256)          33024       batch_normalization_16[0][0]     \n",
            "__________________________________________________________________________________________________\n",
            "batch_normalization_17 (BatchNo (None, 256)          1024        dense_14[0][0]                   \n",
            "__________________________________________________________________________________________________\n",
            "dense_15 (Dense)                (None, 128)          32896       batch_normalization_17[0][0]     \n",
            "__________________________________________________________________________________________________\n",
            "dense_16 (Dense)                (None, 64)           8256        dense_15[0][0]                   \n",
            "__________________________________________________________________________________________________\n",
            "perfect_CSI (InputLayer)        [(None, 64)]         0                                            \n",
            "__________________________________________________________________________________________________\n",
            "lambda_8 (Lambda)               (None, 64)           0           dense_16[0][0]                   \n",
            "__________________________________________________________________________________________________\n",
            "SNR_input (InputLayer)          [(None, 1)]          0                                            \n",
            "__________________________________________________________________________________________________\n",
            "lambda_9 (Lambda)               (64, 1)              0           perfect_CSI[0][0]                \n",
            "                                                                 lambda_8[0][0]                   \n",
            "                                                                 SNR_input[0][0]                  \n",
            "==================================================================================================\n",
            "Total params: 75,968\n",
            "Trainable params: 75,072\n",
            "Non-trainable params: 896\n",
            "__________________________________________________________________________________________________\n"
          ],
          "name": "stdout"
        }
      ]
    },
    {
      "cell_type": "code",
      "metadata": {
        "id": "bXuHPUUtKjVm"
      },
      "source": [
        "history = model.evaluate(x=[H_20input, H_20, np.ones([H_20.shape[0], 1]) * -2], y=H_20, batch_size=10000)"
      ],
      "execution_count": null,
      "outputs": []
    },
    {
      "cell_type": "code",
      "metadata": {
        "id": "9fY1vVsNJIBj"
      },
      "source": [
        "rate = []\n",
        "for snr in range(-20, 25, 5):\n",
        "    SNR = np.power(10, np.ones([H.shape[0], 1]) * snr / 10)\n",
        "    y = model.evaluate(x=[H_input, H, SNR], y=H, batch_size=10000)\n",
        "    rate.append(-y)\n",
        "print(rate)\n",
        "\n",
        "plt.title(\"The result of BFNN\")\n",
        "plt.xlabel(\"SNR(dB)\")\n",
        "plt.ylabel(\"Spectral Efficiency\")\n",
        "plt.plot(range(-20, 25, 5), rate)\n",
        "plt.show()"
      ],
      "execution_count": null,
      "outputs": []
    },
    {
      "cell_type": "code",
      "metadata": {
        "id": "bHVdOPiJNmnz"
      },
      "source": [
        ""
      ],
      "execution_count": null,
      "outputs": []
    }
  ]
}