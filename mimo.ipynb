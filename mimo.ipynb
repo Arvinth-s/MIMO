{
  "nbformat": 4,
  "nbformat_minor": 0,
  "metadata": {
    "colab": {
      "name": "mimo.ipynb",
      "provenance": [],
      "authorship_tag": "ABX9TyPCaivXzcuGgJ6/fJWLG+mk",
      "include_colab_link": true
    },
    "kernelspec": {
      "name": "python3",
      "display_name": "Python 3"
    }
  },
  "cells": [
    {
      "cell_type": "markdown",
      "metadata": {
        "id": "view-in-github",
        "colab_type": "text"
      },
      "source": [
        "<a href=\"https://colab.research.google.com/github/Arvinth-s/MIMO/blob/main/mimo.ipynb\" target=\"_parent\"><img src=\"https://colab.research.google.com/assets/colab-badge.svg\" alt=\"Open In Colab\"/></a>"
      ]
    },
    {
      "cell_type": "code",
      "metadata": {
        "id": "WgJ-zeiK8uPx"
      },
      "source": [
        "#OM NAMO NARAYANA"
      ],
      "execution_count": 1,
      "outputs": []
    },
    {
      "cell_type": "code",
      "metadata": {
        "id": "iA_d5fyk8yHP"
      },
      "source": [
        "from scipy import io\n",
        "import os"
      ],
      "execution_count": 2,
      "outputs": []
    },
    {
      "cell_type": "code",
      "metadata": {
        "colab": {
          "base_uri": "https://localhost:8080/"
        },
        "id": "PqkA6eKS81lb",
        "outputId": "6ff21451-9751-49d8-c185-ac863da99217"
      },
      "source": [
        "from google.colab import drive\n",
        "drive.flush_and_unmount()\n",
        "drive.mount('/content/drive/')"
      ],
      "execution_count": null,
      "outputs": [
        {
          "output_type": "stream",
          "text": [
            "Mounted at /content/drive/\n"
          ],
          "name": "stdout"
        }
      ]
    },
    {
      "cell_type": "code",
      "metadata": {
        "colab": {
          "base_uri": "https://localhost:8080/"
        },
        "id": "LSniY4hK-_Mp",
        "outputId": "332802b8-b238-41fc-ec44-3e209d54b25a"
      },
      "source": [
        "target_dir = '/content/drive/MyDrive/Antenna/project/'\n",
        "os.listdir(target_dir)"
      ],
      "execution_count": null,
      "outputs": [
        {
          "output_type": "execute_result",
          "data": {
            "text/plain": [
              "['rxSig11-sample.mat',\n",
              " 'rxSig21-sample.mat',\n",
              " 'rxSig12-sample.mat',\n",
              " 'target-sample.mat']"
            ]
          },
          "metadata": {
            "tags": []
          },
          "execution_count": 30
        }
      ]
    },
    {
      "cell_type": "code",
      "metadata": {
        "colab": {
          "base_uri": "https://localhost:8080/"
        },
        "id": "NHaBxyqG_VHb",
        "outputId": "fa4d8bf2-2e71-421a-d41d-552eb60d60ae"
      },
      "source": [
        "rxSig11 = io.loadmat(target_dir + 'rxSig11-sample.mat')\n",
        "rxSig11 = rxSig11['rxSig11']\n",
        "rxSig12 = io.loadmat(target_dir + 'rxSig12-sample.mat')\n",
        "rxSig12 = rxSig12['rxSig12']\n",
        "rxSig21 = io.loadmat(target_dir + 'rxSig21-sample.mat')\n",
        "rxSig21 = rxSig21['rxSig21']\n",
        "target =  io.loadmat(target_dir + 'target-sample.mat')\n",
        "target = target['data']\n",
        "print(rxSig11[:10])"
      ],
      "execution_count": null,
      "outputs": [
        {
          "output_type": "stream",
          "text": [
            "[[ 0.35117064+0.44786235j]\n",
            " [ 0.22719947+0.40176509j]\n",
            " [ 0.61738809-0.79160836j]\n",
            " [ 0.42356784-0.73686158j]\n",
            " [ 0.72567296+0.54714625j]\n",
            " [ 0.64160938+0.43313633j]\n",
            " [-0.04791433-0.04937318j]\n",
            " [-0.14170366+0.06291216j]\n",
            " [-1.04757501+0.59024849j]\n",
            " [-1.18419534+0.58657195j]]\n"
          ],
          "name": "stdout"
        }
      ]
    },
    {
      "cell_type": "code",
      "metadata": {
        "id": "asm4Zy5JOG_6"
      },
      "source": [
        "import torch.nn as nn\n",
        "import torch.nn.functional as F\n",
        "from torch import optim\n",
        "import torch"
      ],
      "execution_count": 3,
      "outputs": []
    },
    {
      "cell_type": "code",
      "metadata": {
        "colab": {
          "base_uri": "https://localhost:8080/",
          "height": 221
        },
        "id": "60f0hEVA_xHR",
        "outputId": "a2aa5f23-81cb-421b-9a61-e5a3cb232e7b"
      },
      "source": [
        "class Net(nn.Module):\n",
        "\n",
        "    def __init__(self):\n",
        "        super(Net, self).__init__()\n",
        "        # 1 input image channel, 6 output channels, 3x3 square convolution\n",
        "        # kernel\n",
        "        self.conv1 = nn.Conv2d(1, 6, 3)\n",
        "        self.conv2 = nn.Conv2d(6, 16, 3)\n",
        "        # an affine operation: y = Wx + b\n",
        "        self.fc1 = nn.Linear(16 * 6 * 6, 120)  # 6*6 from image dimension\n",
        "        self.fc2 = nn.Linear(120, 84)\n",
        "        self.fc3 = nn.Linear(84, 10)\n",
        "\n",
        "    def forward(self, x):\n",
        "        # Max pooling over a (2, 2) window\n",
        "        x = F.max_pool2d(F.relu(self.conv1(x)), (2, 2))\n",
        "        # If the size is a square you can only specify a single number\n",
        "        x = F.max_pool2d(F.relu(self.conv2(x)), 2)\n",
        "        x = x.view(-1, self.num_flat_features(x))\n",
        "        x = F.relu(self.fc1(x))\n",
        "        x = F.relu(self.fc2(x))\n",
        "        x = self.fc3(x)\n",
        "        return x\n",
        "\n",
        "    def num_flat_features(self, x):\n",
        "        size = x.size()[1:]  # all dimensions except the batch dimension\n",
        "        num_features = 1\n",
        "        for s in size:\n",
        "            num_features *= s\n",
        "        return num_features\n",
        "\n",
        "\n",
        "net = Net()\n",
        "print(net)"
      ],
      "execution_count": null,
      "outputs": [
        {
          "output_type": "error",
          "ename": "NameError",
          "evalue": "ignored",
          "traceback": [
            "\u001b[0;31m---------------------------------------------------------------------------\u001b[0m",
            "\u001b[0;31mNameError\u001b[0m                                 Traceback (most recent call last)",
            "\u001b[0;32m<ipython-input-1-005d210ec1aa>\u001b[0m in \u001b[0;36m<module>\u001b[0;34m()\u001b[0m\n\u001b[0;32m----> 1\u001b[0;31m \u001b[0;32mclass\u001b[0m \u001b[0mUNet\u001b[0m\u001b[0;34m(\u001b[0m\u001b[0mnn\u001b[0m\u001b[0;34m.\u001b[0m\u001b[0mModule\u001b[0m\u001b[0;34m)\u001b[0m\u001b[0;34m:\u001b[0m\u001b[0;34m\u001b[0m\u001b[0;34m\u001b[0m\u001b[0m\n\u001b[0m\u001b[1;32m      2\u001b[0m     \u001b[0;32mdef\u001b[0m \u001b[0m__init__\u001b[0m\u001b[0;34m(\u001b[0m\u001b[0mself\u001b[0m\u001b[0;34m)\u001b[0m\u001b[0;34m:\u001b[0m\u001b[0;34m\u001b[0m\u001b[0;34m\u001b[0m\u001b[0m\n\u001b[1;32m      3\u001b[0m         \u001b[0msuper\u001b[0m\u001b[0;34m(\u001b[0m\u001b[0;34m)\u001b[0m\u001b[0;34m.\u001b[0m\u001b[0m__init__\u001b[0m\u001b[0;34m(\u001b[0m\u001b[0;34m)\u001b[0m\u001b[0;34m\u001b[0m\u001b[0;34m\u001b[0m\u001b[0m\n\u001b[1;32m      4\u001b[0m \u001b[0;34m\u001b[0m\u001b[0m\n",
            "\u001b[0;31mNameError\u001b[0m: name 'nn' is not defined"
          ]
        }
      ]
    },
    {
      "cell_type": "code",
      "metadata": {
        "id": "R3c_B8hYjXTz"
      },
      "source": [
        "from scipy.stats import unitary_group\n",
        "import random\n",
        "import math\n",
        "import numpy as np\n",
        "import cmath\n",
        "from torch.optim import optim"
      ],
      "execution_count": 4,
      "outputs": []
    },
    {
      "cell_type": "code",
      "metadata": {
        "id": "I6hPzmtujPuy"
      },
      "source": [
        " def NoiseChannel(Nt, Nr):\n",
        "  U = unitary_group.rvs(Nt)\n",
        "  V = unitary_group.rvs(Nr)\n",
        "  random.seed(10)\n",
        "  diag = []\n",
        "  for i in range(min(Nt, Nr)):\n",
        "    phi = random.random()*math.pi*2\n",
        "    diag.append(cmath.rect(1, phi))\n",
        "  sigma = np.zeros((Nt, Nr), complex)\n",
        "  np.fill_diagonal(sigma, diag)\n",
        "  H = np.matmul(U, sigma)\n",
        "  H = np.matmul(H, np.conj(V))\n",
        "  var = 1\n",
        "  n = np.random.normal(0, var, (Nr, 2)).view(np.complex128)\n",
        "  return H, n"
      ],
      "execution_count": 5,
      "outputs": []
    },
    {
      "cell_type": "code",
      "metadata": {
        "id": "qRgH2t0DiQ9R"
      },
      "source": [
        "mt = 100\n",
        "mr = 200\n",
        "Nt = 2\n",
        "Nr = 3"
      ],
      "execution_count": 6,
      "outputs": []
    },
    {
      "cell_type": "code",
      "metadata": {
        "id": "lFfD_mSugF6T"
      },
      "source": [
        "class Network(nn.Module):\n",
        "    def __init__(self):\n",
        "        super().__init__()\n",
        "        \n",
        "        # Inputs to hidden layer linear transformation\n",
        "        self.linear1 = nn.Linear(Nt, 500)\n",
        "        self.linear2 = nn.Linear(500, 2*mt)\n",
        "        self.tren_layer = nn.Linear(2*mt, 2*mr)\n",
        "        # Define sigmoid activation and softmax output \n",
        "        self.linear3 = nn.Linear(2*mr, 500)\n",
        "        self.linear4 = nn.Linear(500, Nt)\n",
        "        self.output = nn.Sigmoid()\n",
        "        self.softmax = nn.Softmax(dim=1)\n",
        "        self.ch, self.n = NoiseChannel(mr, mt)\n",
        "        self.encoder= True\n",
        "        \n",
        "        \n",
        "    def channel(self, x):\n",
        "      ch, n = self.ch, self.n\n",
        "      var = 1\n",
        "      n = np.random.normal(0, var, (mr, 2)).view(np.complex128)\n",
        "      y = np.array(x.detach())\n",
        "      y = y.reshape(y.shape[0], int(y.shape[1]/2), 2).view(np.complex64)\n",
        "      y = y[:, :].squeeze()\n",
        "      y = np.matmul(y, np.transpose(ch))\n",
        "      n = np.repeat(n, y.shape[0], axis=1)\n",
        "      y = y + np.transpose(n)\n",
        "      x = torch.tensor(y, requires_grad=False)\n",
        "      x = torch.view_as_real(x)\n",
        "      x = torch.reshape(x, (x.shape[0], x.shape[1]*2))\n",
        "      x = x.float()\n",
        "      x.requires_grad=True\n",
        "      return x\n",
        "\n",
        "    def train_encoder(self, val = False):\n",
        "        self.encoder = val\n",
        "        lt = 2\n",
        "        ct = 0\n",
        "        for child in model.children():\n",
        "          if(ct >= 2):\n",
        "            break\n",
        "          ct += 1\n",
        "          for param in child.parameters():\n",
        "            param.requires_grad=val\n",
        "\n",
        "    def forward(self, x):\n",
        "        # Pass the input tensor through each of our operations\n",
        "        # y = x\n",
        "        x = self.linear1(x)\n",
        "        x = self.linear2(x)\n",
        "        if (self.encoder == False):\n",
        "          x = self.channel(x)\n",
        "        else:\n",
        "          x = self.tren_layer(x)\n",
        "        x = self.linear3(x)\n",
        "        x = self.linear4(x)\n",
        "        x = self.output(x)\n",
        "        \n",
        "        return x"
      ],
      "execution_count": 318,
      "outputs": []
    },
    {
      "cell_type": "code",
      "metadata": {
        "id": "dr8NSJuy2LBO"
      },
      "source": [
        "model = Network()\n",
        "lr = 5e-4\n",
        "optimizer = optim.Adam(model.parameters(), lr = lr)\n",
        "criterion = nn.BCELoss()"
      ],
      "execution_count": 319,
      "outputs": []
    },
    {
      "cell_type": "code",
      "metadata": {
        "colab": {
          "base_uri": "https://localhost:8080/",
          "height": 283
        },
        "id": "3cWpIfWQ3ZDH",
        "outputId": "e20d5bc6-8ed2-4432-cb17-2655dc00d672"
      },
      "source": [
        "#training encoder\n",
        "losses = []\n",
        "epoches = 100\n",
        "model.train_encoder(True)\n",
        "for epoch in range(epochs):\n",
        "  optimizer.zero_grad()\n",
        "  x = torch.tensor(np.random.randint(0, 2, (100, 2)), dtype = torch.float32)\n",
        "  pred = model(x)\n",
        "  loss = criterion(pred, x)\n",
        "  losses.append(loss.item())\n",
        "  loss.backward()\n",
        "  optimizer.step()\n",
        "plt.plot(np.arange(len(losses)), losses)"
      ],
      "execution_count": 320,
      "outputs": [
        {
          "output_type": "execute_result",
          "data": {
            "text/plain": [
              "[<matplotlib.lines.Line2D at 0x7f27a91002e8>]"
            ]
          },
          "metadata": {
            "tags": []
          },
          "execution_count": 320
        },
        {
          "output_type": "display_data",
          "data": {
            "image/png": "[encoded data removed]",
            "text/plain": [
              "<Figure size 432x288 with 1 Axes>"
            ]
          },
          "metadata": {
            "tags": [],
            "needs_background": "light"
          }
        }
      ]
    },
    {
      "cell_type": "code",
      "metadata": {
        "colab": {
          "base_uri": "https://localhost:8080/",
          "height": 283
        },
        "id": "sAb6vOUf6gqC",
        "outputId": "15f8a6b8-7a00-42a1-9982-e12a1140a0e8"
      },
      "source": [
        "#training decoder with AWGN\n",
        "lr = 5e-6\n",
        "epochs = 200\n",
        "batch_size = 50\n",
        "model.train_encoder(False)\n",
        "optimizer = optim.Adam(model.parameters(), lr = lr)\n",
        "criterion = nn.BCELoss()\n",
        "losses = []\n",
        "for epoch in range(epochs):\n",
        "  batch_loss = []\n",
        "  for batch in range(batch_size):\n",
        "    optimizer.zero_grad()\n",
        "    x = torch.tensor(np.random.randint(0, 2, (101, 2)), dtype = torch.float32)\n",
        "    pred = model(x)\n",
        "    loss = criterion(pred, x)\n",
        "    batch_loss.append(loss.item())\n",
        "    loss.backward()\n",
        "    optimizer.step()\n",
        "  losses.append(sum(batch_loss)/len(batch_loss))\n",
        "plt.plot(np.arange(len(losses)), losses)"
      ],
      "execution_count": 321,
      "outputs": [
        {
          "output_type": "execute_result",
          "data": {
            "text/plain": [
              "[<matplotlib.lines.Line2D at 0x7f27a90ea400>]"
            ]
          },
          "metadata": {
            "tags": []
          },
          "execution_count": 321
        },
        {
          "output_type": "display_data",
          "data": {
            "image/png": "[encoded data removed]",
            "text/plain": [
              "<Figure size 432x288 with 1 Axes>"
            ]
          },
          "metadata": {
            "tags": [],
            "needs_background": "light"
          }
        }
      ]
    },
    {
      "cell_type": "code",
      "metadata": {
        "colab": {
          "base_uri": "https://localhost:8080/"
        },
        "id": "Ag55SKrQCyef",
        "outputId": "6d5791ab-0ed6-4574-c2b5-32d5e3b23322"
      },
      "source": [
        "from google.colab import drive\n",
        "drive.flush_and_unmount()\n",
        "drive.mount('/content/drive/')"
      ],
      "execution_count": 322,
      "outputs": [
        {
          "output_type": "stream",
          "text": [
            "Drive not mounted, so nothing to flush and unmount.\n",
            "Mounted at /content/drive/\n"
          ],
          "name": "stdout"
        }
      ]
    },
    {
      "cell_type": "code",
      "metadata": {
        "colab": {
          "base_uri": "https://localhost:8080/"
        },
        "id": "EFC9YhBYC_pI",
        "outputId": "2c4ea04c-f614-4889-fdb4-9aa8337d8931"
      },
      "source": [
        "target_dir = '/content/drive/MyDrive/Antenna/project/'\n",
        "# del input\n",
        "i = input()\n",
        "torch.save(model, target_dir + 'weights/model/' + '1' + '.pt')\n",
        "torch.save(model, target_dir + 'weights/optimizer/' + '1' + '.pt')"
      ],
      "execution_count": 328,
      "outputs": [
        {
          "output_type": "stream",
          "text": [
            "1\n"
          ],
          "name": "stdout"
        }
      ]
    },
    {
      "cell_type": "code",
      "metadata": {
        "id": "Gq9MfOIM74Gl"
      },
      "source": [
        "plt.plot(range(epochs), losses)"
      ],
      "execution_count": null,
      "outputs": []
    },
    {
      "cell_type": "code",
      "metadata": {
        "id": "4yxaOm3HMSbM"
      },
      "source": [
        "model2 = Network()\n",
        "# print(model2)\n",
        "x = torch.tensor(np.random.randint(0, 2, (101, 2)), dtype = torch.float32)\n",
        "# print(model2(x))\n"
      ],
      "execution_count": 314,
      "outputs": []
    },
    {
      "cell_type": "code",
      "metadata": {
        "colab": {
          "base_uri": "https://localhost:8080/",
          "height": 283
        },
        "id": "mykstMyPANui",
        "outputId": "9acd9e29-f53f-4005-a3b6-afee15ecf965"
      },
      "source": [
        "model2.train_encoder(False)\n",
        "lr = 5e-6\n",
        "epochs = 100\n",
        "batch_size = 50\n",
        "optimizer = optim.Adam(model2.parameters(), lr = lr)\n",
        "criterion = nn.BCELoss()\n",
        "losses = []\n",
        "for epoch in range(epochs):\n",
        "  batch_loss = []\n",
        "  for batch in range(batch_size):\n",
        "    optimizer.zero_grad()\n",
        "    x = torch.tensor(np.random.randint(0, 2, (101, 2)), dtype = torch.float32)\n",
        "    pred = model2(x)\n",
        "    loss = criterion(pred, x)\n",
        "    batch_loss.append(loss.item())\n",
        "    loss.backward()\n",
        "    optimizer.step()\n",
        "  losses.append(sum(batch_loss)/len(batch_loss))\n",
        "plt.plot(np.arange(len(losses)), losses)"
      ],
      "execution_count": 315,
      "outputs": [
        {
          "output_type": "execute_result",
          "data": {
            "text/plain": [
              "[<matplotlib.lines.Line2D at 0x7f27a9242630>]"
            ]
          },
          "metadata": {
            "tags": []
          },
          "execution_count": 315
        },
        {
          "output_type": "display_data",
          "data": {
            "image/png": "[encoded data removed]",
            "text/plain": [
              "<Figure size 432x288 with 1 Axes>"
            ]
          },
          "metadata": {
            "tags": [],
            "needs_background": "light"
          }
        }
      ]
    },
    {
      "cell_type": "code",
      "metadata": {
        "colab": {
          "base_uri": "https://localhost:8080/"
        },
        "id": "WASyvmenixeB",
        "outputId": "3209506f-594c-41a3-db84-c4488946ab67"
      },
      "source": [
        "      model = Network()\n",
        "x = torch.tensor([np.arange(4)], dtype = torch.float32)\n",
        "x = torch.reshape(x, (2,2))\n",
        "y = x.detach().clone()\n",
        "# x = model.forward(x)\n",
        "print(x)\n",
        "# params = list(model.parameters())\n",
        "# print(params)\n",
        "out = model(x)\n",
        "# print(y)\n",
        "# print(out)\n",
        "criterion = nn.CrossEntropyLoss()\n",
        "y = torch.tensor([1, 0], dtype=torch.long)\n",
        "loss = criterion(out, y)\n",
        "print(out)\n",
        "print(loss)"
      ],
      "execution_count": 57,
      "outputs": [
        {
          "output_type": "stream",
          "text": [
            "tensor([[0., 1.],\n",
            "        [2., 3.]])\n",
            "tensor([[0.5057, 0.4943],\n",
            "        [0.5236, 0.4764]], grad_fn=<SoftmaxBackward>)\n",
            "tensor(0.6844, grad_fn=<NllLossBackward>)\n"
          ],
          "name": "stdout"
        }
      ]
    },
    {
      "cell_type": "code",
      "metadata": {
        "colab": {
          "base_uri": "https://localhost:8080/"
        },
        "id": "btzCyO0k5aXL",
        "outputId": "67b124be-843e-484b-b426-b55139fc5c18"
      },
      "source": [
        "model = Network()\n",
        "x = torch.tensor(np.random.randint(0, 2, (100, 2)), dtype = torch.float32)\n",
        "print(x.shape)\n",
        "y = x.detach().clone()\n",
        "pred = model(x)\n",
        "criterion = nn.BCELoss()\n",
        "loss = criterion(pred, y)\n",
        "print(loss)\n",
        "\n"
      ],
      "execution_count": 105,
      "outputs": [
        {
          "output_type": "stream",
          "text": [
            "torch.Size([100, 2])\n",
            "tensor(0.6941, grad_fn=<BinaryCrossEntropyBackward>)\n"
          ],
          "name": "stdout"
        }
      ]
    },
    {
      "cell_type": "code",
      "metadata": {
        "id": "VsEF78Hu-UEo"
      },
      "source": [
        "epochs = 1000\n",
        "lr = 0.00001\n",
        "optimizer = optim.Adam(model.parameters(), lr = lr)\n",
        "losses = []\n",
        "for epoch in range(epochs):\n",
        "  x = torch.tensor(np.random.randint(0, 2, (100, 2)), dtype = torch.float32)\n",
        "  optimizer.zero_grad()\n",
        "  pred = model(x)\n",
        "  loss = criterion(pred, x)\n",
        "  losses.append(loss.item())\n",
        "  # print(loss)\n",
        "  loss.backward()\n",
        "  optimizer.step()"
      ],
      "execution_count": 109,
      "outputs": []
    },
    {
      "cell_type": "code",
      "metadata": {
        "id": "fB-DR4cnFfbR"
      },
      "source": [
        "lt = 2\n",
        "ct = 0\n",
        "for child in model.children():\n",
        "  if(ct >= 2):\n",
        "    break\n",
        "  ct += 1\n",
        "  for param in child.parameters():\n",
        "    param.requires_grad=False"
      ],
      "execution_count": 108,
      "outputs": []
    },
    {
      "cell_type": "code",
      "metadata": {
        "colab": {
          "base_uri": "https://localhost:8080/"
        },
        "id": "GJbYwC2t_g3m",
        "outputId": "d27f455b-19e2-4eb2-c6a6-e8c5fbe3abab"
      },
      "source": [
        "for child in model.children():\n",
        "  print(child)"
      ],
      "execution_count": 306,
      "outputs": [
        {
          "output_type": "stream",
          "text": [
            "Linear(in_features=2, out_features=500, bias=True)\n",
            "Linear(in_features=500, out_features=200, bias=True)\n",
            "Linear(in_features=200, out_features=400, bias=True)\n",
            "Linear(in_features=400, out_features=500, bias=True)\n",
            "Linear(in_features=500, out_features=2, bias=True)\n",
            "Sigmoid()\n",
            "Softmax(dim=1)\n"
          ],
          "name": "stdout"
        }
      ]
    },
    {
      "cell_type": "code",
      "metadata": {
        "colab": {
          "base_uri": "https://localhost:8080/",
          "height": 320
        },
        "id": "IfgxSfKp_aCI",
        "outputId": "dbb3d6fd-5848-48f9-a088-57d1ced38c1b"
      },
      "source": [
        "print(losses)\n",
        "import matplotlib.pyplot as plt\n",
        "plt.plot(np.arange(len(losses)), losses)"
      ],
      "execution_count": 110,
      "outputs": [
        {
          "output_type": "stream",
          "text": [
            "[0.00228555197827518, 0.0022857508156448603, 0.002244663657620549, 0.002108772750943899, 0.002128125401213765, 0.0020298599265515804, 0.0020638981368392706, 0.001978337299078703, 0.001946647884324193, 0.0019035609439015388, 0.0018988741794601083, 0.0018688846612349153, 0.0018069170182570815, 0.0017493698978796601, 0.0017318736063316464, 0.0016475218581035733, 0.0016373059479519725, 0.0016450727125629783, 0.0016174735501408577, 0.0015358623350039124, 0.0015294679906219244, 0.0015058373101055622, 0.0014514120994135737, 0.0014397086342796683, 0.0014143711887300014, 0.0013956902548670769, 0.0013529413845390081, 0.0013389548985287547, 0.0012898180866613984, 0.0013009031536057591, 0.0012689747381955385, 0.0012553827837109566, 0.0012169426772743464, 0.0012065251357853413, 0.0011983034200966358, 0.0011802008375525475, 0.0011557858670130372, 0.0011042312253266573, 0.0010973402531817555, 0.0010698094265535474, 0.0010584155097603798, 0.001048126257956028, 0.001038185553625226, 0.0009843729203566909, 0.0009936686838045716, 0.0009948279475793242, 0.000966787280049175, 0.0009267492569051683, 0.0009326012223027647, 0.0009226390975527465, 0.0008970792405307293, 0.0008768336265347898, 0.000894821947440505, 0.0008656832505948842, 0.0008343546651303768, 0.000843638030346483, 0.0008029321325011551, 0.0007920038769952953, 0.0007987203425727785, 0.0007810081588104367, 0.0007695159292779863, 0.0007413843413814902, 0.000752551481127739, 0.0007491165306419134, 0.0007243605214171112, 0.0006978613673709333, 0.0007142570684663951, 0.0006854222156107426, 0.0007019622134976089, 0.0006919525330886245, 0.0006627265247516334, 0.0006545640644617379, 0.0006416358519345522, 0.0006448608473874629, 0.0006305828574113548, 0.0006031256052665412, 0.0006103667546994984, 0.0006156787858344615, 0.0005917962989769876, 0.0006059087463654578, 0.0005781207582913339, 0.0005772265722043812, 0.0005743693327531219, 0.0005639612791128457, 0.0005467332666739821, 0.0005489925970323384, 0.0005443732952699065, 0.0005549242487177253, 0.0005377822672016919, 0.000528022472281009, 0.0005080709233880043, 0.0005078785470686853, 0.0005035565700381994, 0.000483228184748441, 0.00048679515020921826, 0.0004915017634630203, 0.00047858041943982244, 0.0004908795817755163, 0.0004901268985122442, 0.000470038503408432, 0.00046024462790228426, 0.0004540029913187027, 0.0004483690136112273, 0.00043434466351754963, 0.00042941462015733123, 0.00043564048246480525, 0.0004398117307573557, 0.00043154964805580676, 0.00042430494795553386, 0.0004101741942577064, 0.0004067221889272332, 0.0004066895926371217, 0.00041754075209610164, 0.0004119409713894129, 0.00039246195228770375, 0.0003947376972064376, 0.0003840574936475605, 0.00038622599095106125, 0.00037724501453340054, 0.00037940277252346277, 0.0003760972758755088, 0.0003732713230419904, 0.00036301708314567804, 0.0003582881763577461, 0.00034382991725578904, 0.0003472984826657921, 0.0003366050950717181, 0.00035497581120580435, 0.0003416042891331017, 0.00034024714841507375, 0.0003376818494871259, 0.0003398534609004855, 0.00033121666638180614, 0.0003298424126114696, 0.00032260414445772767, 0.0003314358473289758, 0.00031592632876709104, 0.0003227619163226336, 0.0003069598460569978, 0.00031141407089307904, 0.0003165596863254905, 0.00031483665225096047, 0.00030373281333595514, 0.0003008407074958086, 0.00030347699066624045, 0.0003026757622137666, 0.0002939936239272356, 0.00029560315306298435, 0.000286944123217836, 0.00028498040046542883, 0.0002817554341163486, 0.00028706714510917664, 0.0002815393381752074, 0.0002778054040390998, 0.00027605879586189985, 0.00028030716930516064, 0.000270268035819754, 0.00025852920953184366, 0.0002604590845294297, 0.00026217912090942264, 0.0002648758818395436, 0.0002535155799705535, 0.00025492720305919647, 0.0002595397236291319, 0.00024926059995777905, 0.00024938193382695317, 0.00024543411564081907, 0.00024115073028951883, 0.00024694280000403523, 0.00024581755860708654, 0.00024066990590654314, 0.00023602761211805046, 0.00023138949472922832, 0.00023395466268993914, 0.00023044338740874082, 0.00022688263561576605, 0.00023034235346131027, 0.00022729102056473494, 0.00022327811166178435, 0.0002245053619844839, 0.00021945299522485584, 0.0002162875171052292, 0.00021301860397215933, 0.0002128771011484787, 0.0002099426492350176, 0.00021470915817189962, 0.00021422952704597265, 0.00021299811487551779, 0.00020856309856753796, 0.0002057780948234722, 0.00020989327458664775, 0.00020360862254165113, 0.00020466632850002497, 0.00020561181008815765, 0.00020110473269596696, 0.00019931441056542099, 0.00019815663108602166, 0.00019537728803697973, 0.00019778941350523382, 0.00019568795687519014, 0.0001941214723046869, 0.00019451849220786244, 0.00018989050295203924, 0.00018175100558437407, 0.0001842638448579237, 0.00019080948550254107, 0.00018037809059023857, 0.00018629079568199813, 0.00018376458319835365, 0.00018017212278209627, 0.0001846606028266251, 0.00017949841276276857, 0.00017812103033065796, 0.00017654809926170856, 0.00017327307432424277, 0.00016884277283679694, 0.0001701543078524992, 0.00017103631398640573, 0.00017015521007124335, 0.0001648551260586828, 0.00017445525736548007, 0.00016815392882563174, 0.0001684049202594906, 0.0001608921738807112, 0.00016747992776799947, 0.0001650410849833861, 0.00016163171676453203, 0.00015916218399070203, 0.0001557244686409831, 0.00015877468104008585, 0.00015683603123761714, 0.00015301804523915052, 0.00015232530131470412, 0.00015212529979180545, 0.00015141534095164388, 0.00015240009815897793, 0.0001525020634289831, 0.0001488104317104444, 0.00014976102102082223, 0.00014940305845811963, 0.00014696450671181083, 0.00014406225818675011, 0.00014317753084469587, 0.0001467257970944047, 0.00014608520723413676, 0.00014045648276805878, 0.00013953338202554733, 0.0001397789892507717, 0.00014266309153754264, 0.0001391014811815694, 0.00013865408254787326, 0.00013646359730046242, 0.00013916379248257726, 0.00013691159256268293, 0.00014222341997083277, 0.00013585705892182887, 0.00013263971777632833, 0.00012903966126032174, 0.00013334225513972342, 0.00012766530562657863, 0.00013168771693017334, 0.00013119798677507788, 0.0001334948610747233, 0.00013345044862944633, 0.00012763998529408127, 0.00012874044477939606, 0.00012573179265018553, 0.00012324265844654292, 0.00012946146307513118, 0.00012578960740938783, 0.0001231866335729137, 0.0001278975250897929, 0.00011808708222815767, 0.0001239008124684915, 0.00011941585398744792, 0.00012515741400420666, 0.00011539588740561157, 0.0001231917121913284, 0.00012155980948591605, 0.00011710650142049417, 0.0001169643146567978, 0.00011589577479753643, 0.0001151801334344782, 0.00011451396130723879, 0.00011375838948879391, 0.00011279684258624911, 0.00011515837104525417, 0.00011393964086892083, 0.00011191549856448546, 0.00010997217032127082, 0.00011030209861928597, 0.00011030567839043215, 0.00010792540706461295, 0.00010821748583111912, 0.00010930122516583651, 0.0001091921585611999, 0.00010463634680490941, 0.00010845711221918464, 0.00010521338117541745, 0.00010404767817817628, 0.00010627774463500828, 0.00010597373329801485, 0.00010366497735958546, 0.00010616957297315821, 0.00010283044684911147, 0.00010213298082817346, 0.00010422264313092455, 0.00010227395250694826, 0.00010092047887155786, 0.00010137203935300931, 0.00010011425183620304, 9.959386807167903e-05, 9.866541222436354e-05, 9.964482887880877e-05, 9.876110561890528e-05, 9.749794116942212e-05, 9.839449921855703e-05, 9.674087050370872e-05, 9.723476250655949e-05, 9.773547935765237e-05, 9.29302696022205e-05, 9.65939398156479e-05, 9.468700591241941e-05, 9.263429819839075e-05, 9.435048559680581e-05, 9.232493175659329e-05, 9.563152707414702e-05, 9.428580233361572e-05, 9.177144966088235e-05, 9.162302012555301e-05, 9.119531023316085e-05, 9.025764302350581e-05, 8.983917359728366e-05, 8.94779441296123e-05, 9.259794023819268e-05, 9.147399396169931e-05, 9.085104829864576e-05, 9.053631947608665e-05, 8.833641186356544e-05, 8.978374535217881e-05, 8.619221625849605e-05, 8.636121492600068e-05, 8.547033939976245e-05, 8.512104250257835e-05, 8.701929618837312e-05, 8.107470057439059e-05, 8.503460412612185e-05, 8.341648936038837e-05, 8.518153481418267e-05, 8.311665442306548e-05, 8.453864575130865e-05, 8.284423529403284e-05, 8.361825894098729e-05, 8.216826245188713e-05, 8.292858547065407e-05, 8.2358717918396e-05, 8.046817674767226e-05, 8.067622547969222e-05, 8.116116077871993e-05, 8.008787699509412e-05, 8.028578304219991e-05, 8.032005280256271e-05, 8.019756205612794e-05, 7.881610508775339e-05, 7.769872172502801e-05, 7.598047523060814e-05, 7.719681889284402e-05, 7.728652417426929e-05, 7.494506280636415e-05, 7.783134788041934e-05, 7.691694190725684e-05, 7.639804243808612e-05, 7.393469422822818e-05, 7.492510485462844e-05, 7.600372191518545e-05, 7.575873314635828e-05, 7.439635373884812e-05, 7.386018842225894e-05, 7.166894647525623e-05, 7.300954894162714e-05, 7.344411278609186e-05, 7.551284943474457e-05, 7.209694012999535e-05, 7.233179348986596e-05, 7.200484105851501e-05, 7.255592936417088e-05, 7.119146175682545e-05, 6.78125288686715e-05, 7.208679744508117e-05, 7.06731661921367e-05, 6.971524999244139e-05, 6.915134872542694e-05, 7.042162178549916e-05, 7.204685243777931e-05, 6.893527461215854e-05, 6.963955092942342e-05, 6.834753003204241e-05, 6.988126551732421e-05, 6.948069494683295e-05, 6.722777470713481e-05, 6.585349183296785e-05, 6.753237539669499e-05, 6.904435576871037e-05, 6.61083176964894e-05, 6.692436727462336e-05, 6.594261503778398e-05, 6.70033332426101e-05, 6.543146446347237e-05, 6.664389366051182e-05, 6.550566467922181e-05, 6.310016033239663e-05, 6.587405368918553e-05, 6.521269824588671e-05, 6.4289357396774e-05, 6.470184598583728e-05, 6.226266123121604e-05, 6.361131818266585e-05, 6.233061867533252e-05, 6.212616426637396e-05, 6.239052163437009e-05, 6.087795918574557e-05, 6.132293492555618e-05, 6.259170913835987e-05, 5.927239908487536e-05, 6.100194514147006e-05, 6.056411803001538e-05, 6.0886904975632206e-05, 6.117420707596466e-05, 6.156702875159681e-05, 5.9525151300476864e-05, 5.703858914785087e-05, 5.9732286899816245e-05, 5.9332312957849354e-05, 5.8918925788020715e-05, 6.059630322852172e-05, 6.004552778904326e-05, 5.9958198107779026e-05, 5.6666627642698586e-05, 5.814967516926117e-05, 5.950785998720676e-05, 5.875262286281213e-05, 5.726569361286238e-05, 5.6985834817169234e-05, 5.821137165185064e-05, 5.814283213112503e-05, 5.486258669407107e-05, 5.538207551580854e-05, 5.622374374070205e-05, 5.711636913474649e-05, 5.660761598846875e-05, 5.580410288530402e-05, 5.5972792324610054e-05, 5.5306074500549585e-05, 5.490640251082368e-05, 5.5253323807846755e-05, 5.3921976359561086e-05, 5.494723154697567e-05, 5.453981430036947e-05, 5.2975396101828665e-05, 5.4444441047962755e-05, 5.332887303666212e-05, 5.546909596887417e-05, 5.363823947845958e-05, 5.260702164378017e-05, 5.2592418796848506e-05, 5.204759872867726e-05, 5.208485890761949e-05, 5.222314575803466e-05, 5.221748142503202e-05, 5.0884653319371864e-05, 5.187413626117632e-05, 5.2376039093360305e-05, 5.1681614422705024e-05, 5.20628054800909e-05, 5.0512702728156e-05, 5.00063288200181e-05, 5.061343836132437e-05, 5.155554026714526e-05, 4.931101284455508e-05, 5.080507617094554e-05, 4.990618981537409e-05, 5.060628609498963e-05, 4.9705915444064885e-05, 4.96349748573266e-05, 4.93589868710842e-05, 4.917390469927341e-05, 4.8100082494784147e-05, 4.903293665847741e-05, 4.984866245649755e-05, 4.924424865748733e-05, 4.788012302014977e-05, 4.839870962314308e-05, 4.617504600901157e-05, 4.84267293359153e-05, 4.848365279030986e-05, 4.644268483389169e-05, 4.861896013608202e-05, 4.8756355681689456e-05, 4.7058434574864805e-05, 4.638993050321005e-05, 4.574468039209023e-05, 4.577091021928936e-05, 4.607967639458366e-05, 4.57124988315627e-05, 4.646355228032917e-05, 4.43740063928999e-05, 4.578968946589157e-05, 4.477903712540865e-05, 4.465029269340448e-05, 4.705456012743525e-05, 4.436238305061124e-05, 4.438801624928601e-05, 4.460767740965821e-05, 4.3752304918598384e-05, 4.457191244000569e-05, 4.273927697795443e-05, 4.385632564662956e-05, 4.4125448766862974e-05, 4.4300697481958196e-05, 4.378628000267781e-05, 4.3388405174482614e-05, 4.378419544082135e-05, 4.3254283809801564e-05, 4.344145781942643e-05, 4.2187013605143875e-05, 4.364501728559844e-05, 4.332790194894187e-05, 4.297950363252312e-05, 4.3384825403336436e-05, 4.2300569475628436e-05, 4.199596878606826e-05, 4.2669835238484666e-05, 4.1943225369323045e-05, 4.265046663931571e-05, 4.3734125938499346e-05, 4.129589069634676e-05, 4.309096038923599e-05, 4.064855238539167e-05, 4.3276635551592335e-05, 4.134596019866876e-05, 4.1008875996340066e-05, 4.1206181776942685e-05, 4.1639817936811596e-05, 4.122227255720645e-05, 3.974162973463535e-05, 4.076299592270516e-05, 4.0418766729999334e-05, 4.1312872781418264e-05, 4.065361645189114e-05, 3.938398731406778e-05, 3.85971725336276e-05, 3.872532761306502e-05, 3.947220102418214e-05, 3.94149828935042e-05, 3.945879507227801e-05, 3.9352697058347985e-05, 3.902306707459502e-05, 3.9365804695989937e-05, 3.7917652662144974e-05, 3.783062857110053e-05, 3.7281053664628416e-05, 3.8202280848054215e-05, 3.801541242864914e-05, 3.990465484093875e-05, 3.812001887126826e-05, 3.787711830227636e-05, 3.7969512050040066e-05, 3.733261110028252e-05, 3.828214903478511e-05, 3.6774988984689116e-05, 3.801451384788379e-05, 3.702980757225305e-05, 3.5752429539570585e-05, 3.8899084756849334e-05, 3.6337474739411846e-05, 3.5893404856324196e-05, 3.719760206877254e-05, 3.598072362365201e-05, 3.7188365240581334e-05, 3.6436722439248115e-05, 3.681790622067638e-05, 3.6128250940237194e-05, 3.593333894968964e-05, 3.6270415876060724e-05, 3.5742297768592834e-05, 3.7015801353845745e-05, 3.5291668609716e-05, 3.4580261853989214e-05, 3.562010533642024e-05, 3.5238321288488805e-05, 3.539539102348499e-05, 3.539627869031392e-05, 3.432007724768482e-05, 3.61970960511826e-05, 3.430786091485061e-05, 3.454807665548287e-05, 3.4269713069079444e-05, 3.3673044526949525e-05, 3.3990749216172844e-05, 3.396124884602614e-05, 3.590859705582261e-05, 3.417970583541319e-05, 3.3643547794781625e-05, 3.394336090423167e-05, 3.3963930036406964e-05, 3.389478661119938e-05, 3.4172553569078445e-05, 3.3993139368249103e-05, 3.416659455979243e-05, 3.393293445697054e-05, 3.323553391965106e-05, 3.4074495488312095e-05, 3.3673644793452695e-05, 3.299114905530587e-05, 3.317354276077822e-05, 3.303942867205478e-05, 3.260370795032941e-05, 3.354489308549091e-05, 3.264483166276477e-05, 3.259655204601586e-05, 3.207677582395263e-05, 3.330527397338301e-05, 3.3309745049336925e-05, 3.140143962809816e-05, 3.164224835927598e-05, 3.118923996225931e-05, 3.241206650272943e-05, 3.116182051599026e-05, 3.218228812329471e-05, 3.1878589652478695e-05, 3.061790994252078e-05, 3.1275369110517204e-05, 3.2551550248172134e-05, 3.111592377535999e-05, 3.1625258998246863e-05, 3.1057210435392335e-05, 3.15996294375509e-05, 3.065068813157268e-05, 3.121218833257444e-05, 3.113499406026676e-05, 3.0765138944843784e-05, 3.0331499146996066e-05, 3.0298417186713777e-05, 3.0282919396995567e-05, 2.9615923267556354e-05, 3.1258379749488086e-05, 3.0234041332732886e-05, 3.0158045774442144e-05, 2.97640472126659e-05, 3.0477234759018756e-05, 2.9938395528006367e-05, 3.0286197215900756e-05, 2.999591379193589e-05, 3.063191979890689e-05, 2.9669268769794144e-05, 2.941445382020902e-05, 2.9632612495333888e-05, 2.907260750362184e-05, 2.9040716981398873e-05, 2.8798720450140536e-05, 2.9554530556197278e-05, 2.8839251172030345e-05, 2.8355840186122805e-05, 2.9114633434801362e-05, 2.9331602490856312e-05, 2.885653702833224e-05, 2.8639566153287888e-05, 2.865000169549603e-05, 2.9954784622532316e-05, 2.8409191145328805e-05, 2.888753078877926e-05, 2.7965124900219962e-05, 2.788942219922319e-05, 2.8453894628910348e-05, 2.805810800055042e-05, 2.8477141313487664e-05, 2.8094467779737897e-05, 2.7858428438776173e-05, 2.7535064873518422e-05, 2.7420022888691165e-05, 2.705076076381374e-05, 2.7749943910748698e-05, 2.7840840630233288e-05, 2.7285013857181184e-05, 2.707639396248851e-05, 2.788554957078304e-05, 2.680667421373073e-05, 2.7137786673847586e-05, 2.76402679446619e-05, 2.694704380701296e-05, 2.7437905373517424e-05, 2.70513555733487e-05, 2.7197394956601784e-05, 2.679862518562004e-05, 2.7420623155194335e-05, 2.659745587152429e-05, 2.7133317416883074e-05, 2.6843033992918208e-05, 2.6267232897225767e-05, 2.650715032359585e-05, 2.5798432034207508e-05, 2.640403363329824e-05, 2.6433537641423754e-05, 2.6897574571194127e-05, 2.599036815809086e-05, 2.6191833967459388e-05, 2.5789788196561858e-05, 2.555821993155405e-05, 2.5877707230392843e-05, 2.5613651814637706e-05, 2.5248862584703602e-05, 2.5748064217623323e-05, 2.5221444957423955e-05, 2.5380886654602364e-05, 2.5026232833624817e-05, 2.5102826839429326e-05, 2.5289396944572218e-05, 2.426685023237951e-05, 2.603626126074232e-05, 2.4942783056758344e-05, 2.4578292141086422e-05, 2.5058719984372146e-05, 2.456845686538145e-05, 2.503576979506761e-05, 2.451213003951125e-05, 2.4690352802281268e-05, 2.4772907636361197e-05, 2.422065517748706e-05, 2.5338867999380454e-05, 2.481701631040778e-05, 2.423525984340813e-05, 2.459409188304562e-05, 2.4285331164719537e-05, 2.401084202574566e-05, 2.3902059183456004e-05, 2.456517904647626e-05, 2.4674554879311472e-05, 2.464982208039146e-05, 2.4457294784951955e-05, 2.4596176444902085e-05, 2.3580487322760746e-05, 2.457292976032477e-05, 2.366125409025699e-05, 2.388984285062179e-05, 2.380788282607682e-05, 2.2891437765792944e-05, 2.358883102715481e-05, 2.342729567317292e-05, 2.3744105419609696e-05, 2.2619635274168104e-05, 2.3528033125330694e-05, 2.3096781660569832e-05, 2.3676453565713018e-05, 2.4188766474253498e-05, 2.244499046355486e-05, 2.311406933586113e-05, 2.318798033229541e-05, 2.2707255993736908e-05, 2.3136721210903488e-05, 2.3292586774914525e-05, 2.2909023755346425e-05, 2.2318623450701125e-05, 2.3070855604601093e-05, 2.2600563170271926e-05, 2.2075137167121284e-05, 2.2846135834697634e-05, 2.2631855244981125e-05, 2.2954624000703916e-05, 2.2783253371017054e-05, 2.184654658776708e-05, 2.206410681537818e-05, 2.2841668396722525e-05, 2.238687375211157e-05, 2.2128780983621255e-05, 2.164686520700343e-05, 2.2383297618944198e-05, 2.1756541173090227e-05, 2.297459104738664e-05, 2.1984236809657887e-05, 2.169007893826347e-05, 2.148652492905967e-05, 2.1580404791166075e-05, 2.1822110284119844e-05, 2.156848495360464e-05, 2.2103449737187475e-05, 2.1987512809573673e-05, 2.1247506083454937e-05, 2.176816269638948e-05, 2.1285353795974515e-05, 2.1329164155758917e-05, 2.1382216800702736e-05, 2.1544045011978596e-05, 2.1681737052858807e-05, 2.1601268599624746e-05, 2.129548738594167e-05, 2.1364929125411436e-05, 2.1665044187102467e-05, 2.153420791728422e-05, 2.1209954866208136e-05, 2.1065707187517546e-05, 2.0985835362807848e-05, 2.082966784655582e-05, 2.1089846995892003e-05, 2.0479184968280606e-05, 2.0772744392161258e-05, 2.028844755841419e-05, 2.0213938114466146e-05, 2.0655617845477536e-05, 2.0188010239508003e-05, 2.036325167864561e-05, 1.9815175619442016e-05, 2.0532832422759384e-05, 2.0340303308330476e-05, 2.019754538196139e-05, 2.0879737348877825e-05, 2.016595499299001e-05, 1.990398595808074e-05, 2.0100089386687614e-05, 2.0325103832874447e-05, 2.0195162505842745e-05, 2.018741361098364e-05, 1.9803848772426136e-05, 2.034745557466522e-05, 1.9244447685196064e-05, 2.0248806322342716e-05, 1.942564813361969e-05, 1.9903691281797364e-05, 1.9735005480470136e-05, 1.956125197466463e-05, 1.9583903849706985e-05, 1.9540391804184765e-05, 1.9360382793820463e-05, 1.9272463759989478e-05, 1.959522887773346e-05, 1.887817052192986e-05, 1.958241409738548e-05, 1.9643810446723364e-05, 1.9412836991250515e-05, 1.8664482922758907e-05, 1.8953573089675047e-05, 1.8773860574583523e-05, 1.9231931219110265e-05, 1.8713360987021588e-05, 1.8755084965960123e-05, 1.95523116417462e-05, 1.8536928109824657e-05, 1.9006025468115695e-05, 1.884330231405329e-05, 1.868385515990667e-05, 1.850444095907733e-05, 1.8756572899292223e-05, 1.882512151496485e-05, 1.8903801901615225e-05, 1.7867852875497192e-05, 1.8061273294733837e-05, 1.805590909498278e-05, 1.906354373204522e-05, 1.8322942196391523e-05, 1.7837453924585134e-05, 1.841950142988935e-05, 1.8122964320355095e-05, 1.847910971264355e-05, 1.8453478332958184e-05, 1.8372415070189163e-05, 1.8339631424169056e-05, 1.8150085452361964e-05, 1.821416117309127e-05, 1.7635091353440657e-05, 1.8013886801782064e-05, 1.8713060853770003e-05, 1.8255588656757027e-05, 1.7691418179310858e-05, 1.788036934158299e-05, 1.7983486031880602e-05, 1.8320259187021293e-05, 1.787768633221276e-05, 1.7951897461898625e-05, 1.8081242160405964e-05, 1.7423193639842793e-05, 1.8216247553937137e-05, 1.772539508237969e-05, 1.7602011212147772e-05, 1.767860521795228e-05, 1.737014281388838e-05, 1.7818380001699552e-05, 1.7723607015796006e-05, 1.737073944241274e-05, 1.7006550478981808e-05, 1.7476540961069986e-05, 1.7104302969528362e-05, 1.7149899576907046e-05, 1.7170166756841354e-05, 1.7753707652445883e-05, 1.7148709957837127e-05, 1.688465454208199e-05, 1.6950221834122203e-05, 1.7268816009163857e-05, 1.7269709132960998e-05, 1.7084632418118417e-05, 1.664623232500162e-05, 1.689627970336005e-05, 1.704201531538274e-05, 1.715169128146954e-05, 1.7194308384205215e-05, 1.703843918221537e-05, 1.666411480982788e-05, 1.672312464506831e-05, 1.661285205045715e-05, 1.6477251847391017e-05, 1.6660240362398326e-05, 1.6557718481635675e-05, 1.7061982362065464e-05, 1.6365491319447756e-05, 1.6515397874172777e-05, 1.6262965800706297e-05, 1.660808629821986e-05, 1.667275864747353e-05, 1.6382777175749652e-05, 1.6228696040343493e-05, 1.6415557183790952e-05, 1.583917037351057e-05, 1.5941990568535402e-05, 1.5757808796479367e-05, 1.6663221686030738e-05, 1.6154486729647033e-05, 1.596583388163708e-05, 1.5526838978985325e-05, 1.590682404639665e-05, 1.6231078916462138e-05, 1.5992358385119587e-05, 1.6128557035699487e-05, 1.556528513901867e-05, 1.5867186448303983e-05, 1.5736055502202362e-05, 1.5317324141506106e-05, 1.5944971892167814e-05, 1.5576610167045146e-05, 1.568986044730991e-05, 1.545352461107541e-05, 1.61190218932461e-05, 1.577658622409217e-05, 1.5753339539514855e-05, 1.556349525344558e-05, 1.612021151231602e-05, 1.5404646546812728e-05, 1.5333416740759276e-05, 1.5209437151497696e-05, 1.5587935195071623e-05, 1.5329842426581308e-05, 1.5540546883130446e-05, 1.5670189895899966e-05, 1.553518268337939e-05, 1.517874170531286e-05, 1.5657076801289804e-05, 1.5091717614268418e-05, 1.4833624845778104e-05, 1.4762397768208757e-05, 1.5927686035865918e-05, 1.4887570614519063e-05, 1.4912006008671597e-05, 1.5108706065802835e-05, 1.4828856365056708e-05, 1.4986812857387122e-05, 1.5472001905436628e-05, 1.4946877854526974e-05, 1.4332342288980726e-05, 1.5121222531888634e-05, 1.477670139138354e-05, 1.4196142728906125e-05, 1.4780575838813093e-05, 1.472067287977552e-05, 1.5131355212361086e-05, 1.5333118426497094e-05, 1.4846142221358605e-05, 1.480352602811763e-05, 1.4602355804527178e-05, 1.451205480407225e-05, 1.4429500879487023e-05, 1.428018822480226e-05, 1.470487768528983e-05, 1.4347542673931457e-05, 1.4300752809504047e-05, 1.4096901395532768e-05, 1.414786311215721e-05, 1.4324892617878504e-05, 1.4090046533965506e-05, 1.4484337043541018e-05, 1.4551094864145853e-05, 1.4132367141428404e-05, 1.3853412383468822e-05, 1.4146969078865368e-05, 1.4157698387862183e-05, 1.441340737073915e-05, 1.393030379404081e-05, 1.3709166523767635e-05, 1.4234292393666692e-05, 1.4396121514437255e-05, 1.4253663721319754e-05, 1.3708570804737974e-05, 1.4039978850632906e-05]\n"
          ],
          "name": "stdout"
        },
        {
          "output_type": "execute_result",
          "data": {
            "text/plain": [
              "[<matplotlib.lines.Line2D at 0x7f27acedeeb8>]"
            ]
          },
          "metadata": {
            "tags": []
          },
          "execution_count": 110
        },
        {
          "output_type": "display_data",
          "data": {
            "image/png": "[encoded data removed]",
            "text/plain": [
              "<Figure size 432x288 with 1 Axes>"
            ]
          },
          "metadata": {
            "tags": [],
            "needs_background": "light"
          }
        }
      ]
    },
    {
      "cell_type": "code",
      "metadata": {
        "colab": {
          "base_uri": "https://localhost:8080/",
          "height": 283
        },
        "id": "ZSUYdU7Ocygr",
        "outputId": "8a26d681-636a-472e-afb2-3a04404a1644"
      },
      "source": [
        "lr = 5e-6\n",
        "epochs = 100\n",
        "batch_size = 50\n",
        "optimizer = optim.Adam(model2.parameters(), lr = lr)\n",
        "criterion = nn.BCELoss()\n",
        "losses = []\n",
        "for epoch in range(epochs):\n",
        "  batch_loss = []\n",
        "  for batch in range(batch_size):\n",
        "    optimizer.zero_grad()\n",
        "    x = torch.tensor(np.random.randint(0, 2, (101, 2)), dtype = torch.float32)\n",
        "    pred = model2(x)\n",
        "    loss = criterion(pred, x)\n",
        "    batch_loss.append(loss.item())\n",
        "    loss.backward()\n",
        "    optimizer.step()\n",
        "  losses.append(sum(batch_loss)/len(batch_loss))\n",
        "plt.plot(np.arange(len(losses)), losses)"
      ],
      "execution_count": 273,
      "outputs": [
        {
          "output_type": "execute_result",
          "data": {
            "text/plain": [
              "[<matplotlib.lines.Line2D at 0x7f27a98770f0>]"
            ]
          },
          "metadata": {
            "tags": []
          },
          "execution_count": 273
        },
        {
          "output_type": "display_data",
          "data": {
            "image/png": "[encoded data removed]",
            "text/plain": [
              "<Figure size 432x288 with 1 Axes>"
            ]
          },
          "metadata": {
            "tags": [],
            "needs_background": "light"
          }
        }
      ]
    },
    {
      "cell_type": "code",
      "metadata": {
        "colab": {
          "base_uri": "https://localhost:8080/",
          "height": 204
        },
        "id": "dArcMtHRGgwc",
        "outputId": "2e8784fe-8c6e-44d8-e0f6-2ed9bbf809fd"
      },
      "source": [
        "model2 = Network()\n",
        "model2.load_state_dict(model.state_dict())\n",
        "print(model2.parameters())"
      ],
      "execution_count": 91,
      "outputs": [
        {
          "output_type": "error",
          "ename": "TypeError",
          "evalue": "ignored",
          "traceback": [
            "\u001b[0;31m---------------------------------------------------------------------------\u001b[0m",
            "\u001b[0;31mTypeError\u001b[0m                                 Traceback (most recent call last)",
            "\u001b[0;32m<ipython-input-91-3cb6879eda59>\u001b[0m in \u001b[0;36m<module>\u001b[0;34m()\u001b[0m\n\u001b[1;32m      1\u001b[0m \u001b[0mmodel2\u001b[0m \u001b[0;34m=\u001b[0m \u001b[0mNetwork\u001b[0m\u001b[0;34m(\u001b[0m\u001b[0;34m)\u001b[0m\u001b[0;34m\u001b[0m\u001b[0;34m\u001b[0m\u001b[0m\n\u001b[1;32m      2\u001b[0m \u001b[0mmodel2\u001b[0m\u001b[0;34m.\u001b[0m\u001b[0mload_state_dict\u001b[0m\u001b[0;34m(\u001b[0m\u001b[0mmodel\u001b[0m\u001b[0;34m.\u001b[0m\u001b[0mstate_dict\u001b[0m\u001b[0;34m(\u001b[0m\u001b[0;34m)\u001b[0m\u001b[0;34m)\u001b[0m\u001b[0;34m\u001b[0m\u001b[0;34m\u001b[0m\u001b[0m\n\u001b[0;32m----> 3\u001b[0;31m \u001b[0mprint\u001b[0m\u001b[0;34m(\u001b[0m\u001b[0mmodel2\u001b[0m\u001b[0;34m.\u001b[0m\u001b[0mparameters\u001b[0m\u001b[0;34m(\u001b[0m\u001b[0;34m)\u001b[0m\u001b[0;34m[\u001b[0m\u001b[0;36m0\u001b[0m\u001b[0;34m]\u001b[0m\u001b[0;34m)\u001b[0m\u001b[0;34m\u001b[0m\u001b[0;34m\u001b[0m\u001b[0m\n\u001b[0m",
            "\u001b[0;31mTypeError\u001b[0m: 'generator' object is not subscriptable"
          ]
        }
      ]
    },
    {
      "cell_type": "code",
      "metadata": {
        "colab": {
          "base_uri": "https://localhost:8080/"
        },
        "id": "6CGe0ryEz9vP",
        "outputId": "fecc8030-8c15-4832-8c6b-81275bdc1393"
      },
      "source": [
        "predicted = torch.tensor([[1,10,3,4]]).float()\n",
        "print(predicted.shape)\n",
        "target = torch.tensor([1]).long()\n",
        "lossfxn = nn.CrossEntropyLoss()\n",
        "print(target.shape)\n",
        "loss = lossfxn(predicted, target)\n",
        "print(loss)"
      ],
      "execution_count": 62,
      "outputs": [
        {
          "output_type": "stream",
          "text": [
            "torch.Size([1, 4])\n",
            "torch.Size([1])\n",
            "tensor(0.0035)\n"
          ],
          "name": "stdout"
        }
      ]
    },
    {
      "cell_type": "code",
      "metadata": {
        "id": "LVQVaIRL7j-l"
      },
      "source": [
        "rom scipy.stats import unitary_group\n",
        "Nt = 3\n",
        "Nr = 4\n",
        "U = unitary_group.rvs(Nt)\n",
        "V = unitary_group.rvs(Nr)\n",
        "print(U)"
      ],
      "execution_count": null,
      "outputs": []
    },
    {
      "cell_type": "code",
      "metadata": {
        "id": "f3ko8sxG7u8b"
      },
      "source": [
        "import random\n",
        "import math\n",
        "import numpy as np\n",
        "import cmath"
      ],
      "execution_count": null,
      "outputs": []
    },
    {
      "cell_type": "code",
      "metadata": {
        "colab": {
          "base_uri": "https://localhost:8080/"
        },
        "id": "PXYolxcQQsRp",
        "outputId": "6cbe2cd9-8661-47a8-9d8b-627e6e190c58"
      },
      "source": [
        "random.seed(10)\n",
        "diag = []\n",
        "for i in range(min(Nt, Nr)):\n",
        "  phi = random.random()*math.pi*2\n",
        "  diag.append(cmath.rect(1, phi))\n",
        "  print(diag[-1])\n",
        "sigma = np.zeros((Nt, Nr), complex)\n",
        "np.fill_diagonal(sigma, diag)\n",
        "print(sigma)"
      ],
      "execution_count": null,
      "outputs": [
        {
          "output_type": "stream",
          "text": [
            "(-0.901039672957227-0.433736680207166j)\n",
            "(-0.9018329764934756+0.43208480939384847j)\n",
            "(-0.8820210563400136-0.4712099915885132j)\n",
            "[[-0.90103967-0.43373668j  0.        +0.j          0.        +0.j\n",
            "   0.        +0.j        ]\n",
            " [ 0.        +0.j         -0.90183298+0.43208481j  0.        +0.j\n",
            "   0.        +0.j        ]\n",
            " [ 0.        +0.j          0.        +0.j         -0.88202106-0.47120999j\n",
            "   0.        +0.j        ]]\n"
          ],
          "name": "stdout"
        }
      ]
    },
    {
      "cell_type": "code",
      "metadata": {
        "colab": {
          "base_uri": "https://localhost:8080/"
        },
        "id": "LPbRp-wPQ1xR",
        "outputId": "a5b22061-cae1-4b8a-b413-59eac406b505"
      },
      "source": [
        "H = np.matmul(U, sigma)\n",
        "H = np.matmul(H, np.conj(V))\n",
        "print(H)\n",
        "print('H shape: ', H.shape)"
      ],
      "execution_count": null,
      "outputs": [
        {
          "output_type": "stream",
          "text": [
            "[[-0.2476991 +0.45580005j  0.34135201-0.5071371j  -0.43460317+0.13126867j\n",
            "  -0.29015205+0.25861678j]\n",
            " [-0.44513694+0.17186702j -0.3518476 -0.15068592j  0.04703815-0.61046586j\n",
            "   0.40969914+0.28823135j]\n",
            " [-0.63917872+0.1365047j  -0.33212015+0.38405347j  0.08289833+0.53453516j\n",
            "  -0.14204106+0.04733433j]]\n",
            "H shape:  (3, 4)\n"
          ],
          "name": "stdout"
        }
      ]
    },
    {
      "cell_type": "code",
      "metadata": {
        "colab": {
          "base_uri": "https://localhost:8080/"
        },
        "id": "a6I2d9U3Sh75",
        "outputId": "18696fc7-36f0-438c-bbde-6a831090707f"
      },
      "source": [
        "var = 1\n",
        "n = np.random.normal(0, var, (Nr, 2)).view(np.complex128)\n",
        "print(n)"
      ],
      "execution_count": null,
      "outputs": [
        {
          "output_type": "stream",
          "text": [
            "[[ 1.10659975-0.37812048j]\n",
            " [-0.16889935+1.34367067j]\n",
            " [-1.45615713-0.00492412j]\n",
            " [-0.04872485-1.3344347j ]]\n"
          ],
          "name": "stdout"
        }
      ]
    },
    {
      "cell_type": "code",
      "metadata": {
        "colab": {
          "base_uri": "https://localhost:8080/"
        },
        "id": "YHzPS8G6Tzhw",
        "outputId": "d8acfcbb-7f72-4b3c-b6db-99ac68233c34"
      },
      "source": [
        "a = torch.tensor([1.0+ 5j, 2.0], dtype=torch.complex64)\n",
        "print(a)"
      ],
      "execution_count": null,
      "outputs": [
        {
          "output_type": "stream",
          "text": [
            "tensor([1.+5.j, 2.+0.j])\n"
          ],
          "name": "stdout"
        }
      ]
    },
    {
      "cell_type": "code",
      "metadata": {
        "colab": {
          "base_uri": "https://localhost:8080/"
        },
        "id": "gHbQHEOqVdV0",
        "outputId": "dc71ba05-9a7d-4d86-bb16-ff65819467c9"
      },
      "source": [
        "a = torch.tensor([[1 + 5j, 2 + 6j]], dtype=torch.complex64)\n",
        "b = torch.tensor([[2 + 3j], [4 + -1j]], dtype=torch.complex64)\n",
        "print(a)\n",
        "print(b)\n",
        "c = a.matmul(b)\n",
        "print(c)\n",
        "print(a)\n",
        "print(b)"
      ],
      "execution_count": null,
      "outputs": [
        {
          "output_type": "stream",
          "text": [
            "tensor([[1.+5.j, 2.+6.j]])\n",
            "tensor([[2.+3.j],\n",
            "        [4.-1.j]])\n",
            "tensor([[1.+35.j]])\n",
            "tensor([[1.+5.j, 2.+6.j]])\n",
            "tensor([[2.+3.j],\n",
            "        [4.-1.j]])\n"
          ],
          "name": "stdout"
        }
      ]
    },
    {
      "cell_type": "code",
      "metadata": {
        "colab": {
          "base_uri": "https://localhost:8080/"
        },
        "id": "aDq5cIaAoZxB",
        "outputId": "809c0205-9c17-476e-bdd5-d43afc17386f"
      },
      "source": [
        "print(a.shape[0])"
      ],
      "execution_count": null,
      "outputs": [
        {
          "output_type": "stream",
          "text": [
            "1\n"
          ],
          "name": "stdout"
        }
      ]
    },
    {
      "cell_type": "code",
      "metadata": {
        "colab": {
          "base_uri": "https://localhost:8080/"
        },
        "id": "fjEtXSI3rCaS",
        "outputId": "d3be0805-0674-40d0-e024-174b3a4c82fa"
      },
      "source": [
        "t = torch.reshape(a, (2, 1))\n",
        "print(a)\n",
        "print(t)"
      ],
      "execution_count": null,
      "outputs": [
        {
          "output_type": "stream",
          "text": [
            "tensor([[1.+5.j, 2.+6.j]])\n",
            "tensor([[1.+5.j],\n",
            "        [2.+6.j]])\n"
          ],
          "name": "stdout"
        }
      ]
    },
    {
      "cell_type": "code",
      "metadata": {
        "colab": {
          "base_uri": "https://localhost:8080/"
        },
        "id": "G1N0oecYrbyt",
        "outputId": "73ec2358-9eaf-4385-d712-2fc96a393545"
      },
      "source": [
        "!pip install --upgrade torch torchvision"
      ],
      "execution_count": null,
      "outputs": [
        {
          "output_type": "stream",
          "text": [
            "Requirement already up-to-date: torch in /usr/local/lib/python3.6/dist-packages (1.7.0+cu101)\n",
            "Requirement already up-to-date: torchvision in /usr/local/lib/python3.6/dist-packages (0.8.1+cu101)\n",
            "Requirement already satisfied, skipping upgrade: typing-extensions in /usr/local/lib/python3.6/dist-packages (from torch) (3.7.4.3)\n",
            "Requirement already satisfied, skipping upgrade: future in /usr/local/lib/python3.6/dist-packages (from torch) (0.16.0)\n",
            "Requirement already satisfied, skipping upgrade: numpy in /usr/local/lib/python3.6/dist-packages (from torch) (1.18.5)\n",
            "Requirement already satisfied, skipping upgrade: dataclasses in /usr/local/lib/python3.6/dist-packages (from torch) (0.7)\n",
            "Requirement already satisfied, skipping upgrade: pillow>=4.1.1 in /usr/local/lib/python3.6/dist-packages (from torchvision) (7.0.0)\n"
          ],
          "name": "stdout"
        }
      ]
    },
    {
      "cell_type": "code",
      "metadata": {
        "colab": {
          "base_uri": "https://localhost:8080/"
        },
        "id": "xLmK5us6ztzi",
        "outputId": "f2f1bb43-1deb-4061-8cc6-0abf2de4f67e"
      },
      "source": [
        "print(torch.__version__)"
      ],
      "execution_count": null,
      "outputs": [
        {
          "output_type": "stream",
          "text": [
            "1.7.0+cu101\n"
          ],
          "name": "stdout"
        }
      ]
    },
    {
      "cell_type": "code",
      "metadata": {
        "id": "zPl5YtH8zx_i",
        "colab": {
          "base_uri": "https://localhost:8080/"
        },
        "outputId": "d424b8cd-2c12-4861-89a2-e8eb50fbe42b"
      },
      "source": [
        "inp = torch.ones(3, 5, requires_grad=True)\n",
        "print(inp)\n",
        "target = torch.empty(3, dtype=torch.long).random_(5)\n",
        "print(target)"
      ],
      "execution_count": 55,
      "outputs": [
        {
          "output_type": "stream",
          "text": [
            "tensor([[1., 1., 1., 1., 1.],\n",
            "        [1., 1., 1., 1., 1.],\n",
            "        [1., 1., 1., 1., 1.]], requires_grad=True)\n",
            "tensor([2, 0, 4])\n"
          ],
          "name": "stdout"
        }
      ]
    },
    {
      "cell_type": "code",
      "metadata": {
        "id": "YT5K7gbs3o8Z"
      },
      "source": [
        "x = torch.tensor([1, 2], dtype = torch.float32, requires_grad=False)"
      ],
      "execution_count": 113,
      "outputs": []
    },
    {
      "cell_type": "code",
      "metadata": {
        "colab": {
          "base_uri": "https://localhost:8080/"
        },
        "id": "Gf9QyhPUO5NC",
        "outputId": "fe68c71d-37d7-4ef4-b15d-369bf64691cd"
      },
      "source": [
        "print(x)"
      ],
      "execution_count": 114,
      "outputs": [
        {
          "output_type": "stream",
          "text": [
            "tensor([1., 2.])\n"
          ],
          "name": "stdout"
        }
      ]
    },
    {
      "cell_type": "code",
      "metadata": {
        "id": "IZC5LAFKO7D6"
      },
      "source": [
        ""
      ],
      "execution_count": null,
      "outputs": []
    }
  ]
}