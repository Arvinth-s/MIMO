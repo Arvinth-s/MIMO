{
  "nbformat": 4,
  "nbformat_minor": 0,
  "metadata": {
    "colab": {
      "name": "mimo.ipynb",
      "provenance": [],
      "authorship_tag": "ABX9TyPLuYoxXnkd7SIWxd8SSh5M",
      "include_colab_link": true
    },
    "kernelspec": {
      "name": "python3",
      "display_name": "Python 3"
    }
  },
  "cells": [
    {
      "cell_type": "markdown",
      "metadata": {
        "id": "view-in-github",
        "colab_type": "text"
      },
      "source": [
        "<a href=\"https://colab.research.google.com/github/Arvinth-s/MIMO/blob/main/mimo.ipynb\" target=\"_parent\"><img src=\"https://colab.research.google.com/assets/colab-badge.svg\" alt=\"Open In Colab\"/></a>"
      ]
    },
    {
      "cell_type": "code",
      "metadata": {
        "id": "WgJ-zeiK8uPx"
      },
      "source": [
        "#OM NAMO NARAYANA"
      ],
      "execution_count": 1,
      "outputs": []
    },
    {
      "cell_type": "code",
      "metadata": {
        "id": "iA_d5fyk8yHP"
      },
      "source": [
        "from scipy import io\n",
        "import os"
      ],
      "execution_count": 2,
      "outputs": []
    },
    {
      "cell_type": "code",
      "metadata": {
        "colab": {
          "base_uri": "https://localhost:8080/"
        },
        "id": "PqkA6eKS81lb",
        "outputId": "6ff21451-9751-49d8-c185-ac863da99217"
      },
      "source": [
        "from google.colab import drive\n",
        "drive.flush_and_unmount()\n",
        "drive.mount('/content/drive/')"
      ],
      "execution_count": null,
      "outputs": [
        {
          "output_type": "stream",
          "text": [
            "Mounted at /content/drive/\n"
          ],
          "name": "stdout"
        }
      ]
    },
    {
      "cell_type": "code",
      "metadata": {
        "colab": {
          "base_uri": "https://localhost:8080/"
        },
        "id": "LSniY4hK-_Mp",
        "outputId": "332802b8-b238-41fc-ec44-3e209d54b25a"
      },
      "source": [
        "target_dir = '/content/drive/MyDrive/Antenna/project/'\n",
        "os.listdir(target_dir)"
      ],
      "execution_count": null,
      "outputs": [
        {
          "output_type": "execute_result",
          "data": {
            "text/plain": [
              "['rxSig11-sample.mat',\n",
              " 'rxSig21-sample.mat',\n",
              " 'rxSig12-sample.mat',\n",
              " 'target-sample.mat']"
            ]
          },
          "metadata": {
            "tags": []
          },
          "execution_count": 30
        }
      ]
    },
    {
      "cell_type": "code",
      "metadata": {
        "id": "asm4Zy5JOG_6"
      },
      "source": [
        "import torch.nn as nn\n",
        "import torch.nn.functional as F\n",
        "from torch import optim\n",
        "import torch"
      ],
      "execution_count": 3,
      "outputs": []
    },
    {
      "cell_type": "code",
      "metadata": {
        "id": "R3c_B8hYjXTz"
      },
      "source": [
        "from scipy.stats import unitary_group\n",
        "import random\n",
        "import math\n",
        "import numpy as np\n",
        "import cmath\n",
        "from torch.optim import optim"
      ],
      "execution_count": 4,
      "outputs": []
    },
    {
      "cell_type": "code",
      "metadata": {
        "id": "I6hPzmtujPuy"
      },
      "source": [
        " def NoiseChannel(Nt, Nr):\n",
        "  U = unitary_group.rvs(Nt)\n",
        "  V = unitary_group.rvs(Nr)\n",
        "  random.seed(10)\n",
        "  diag = []\n",
        "  for i in range(min(Nt, Nr)):\n",
        "    phi = random.random()*math.pi*2\n",
        "    diag.append(cmath.rect(1, phi))\n",
        "  sigma = np.zeros((Nt, Nr), complex)\n",
        "  np.fill_diagonal(sigma, diag)\n",
        "  H = np.matmul(U, sigma)\n",
        "  H = np.matmul(H, np.conj(V))\n",
        "  var = 1\n",
        "  n = np.random.normal(0, var, (Nr, 2)).view(np.complex128)\n",
        "  return H, n"
      ],
      "execution_count": 5,
      "outputs": []
    },
    {
      "cell_type": "code",
      "metadata": {
        "id": "qRgH2t0DiQ9R"
      },
      "source": [
        "mt = 100\n",
        "mr = 200\n",
        "Nt = 2\n",
        "Nr = 3"
      ],
      "execution_count": 329,
      "outputs": []
    },
    {
      "cell_type": "code",
      "metadata": {
        "id": "lFfD_mSugF6T"
      },
      "source": [
        "class Network(nn.Module):\n",
        "    def __init__(self):\n",
        "        super().__init__()\n",
        "        \n",
        "        # Inputs to hidden layer linear transformation\n",
        "        self.linear1 = nn.Linear(Nt, 500)\n",
        "        self.linear2 = nn.Linear(500, 2*mt)\n",
        "        self.tren_layer = nn.Linear(2*mt, 2*mr)\n",
        "        # Define sigmoid activation and softmax output \n",
        "        self.linear3 = nn.Linear(2*mr, 500)\n",
        "        self.linear4 = nn.Linear(500, Nt)\n",
        "        self.output = nn.Sigmoid()\n",
        "        self.softmax = nn.Softmax(dim=1)\n",
        "        self.ch, self.n = NoiseChannel(mr, mt)\n",
        "        self.encoder= True\n",
        "        \n",
        "        \n",
        "    def channel(self, x, var = 1):\n",
        "      ch, n = self.ch, self.n\n",
        "      n = np.random.normal(0, var, (mr, 2)).view(np.complex128)\n",
        "      y = np.array(x.detach())\n",
        "      y = y.reshape(y.shape[0], int(y.shape[1]/2), 2).view(np.complex64)\n",
        "      y = y[:, :].squeeze()\n",
        "      y = np.matmul(y, np.transpose(ch))\n",
        "      n = np.repeat(n, y.shape[0], axis=1)\n",
        "      y = y + np.transpose(n)\n",
        "      x = torch.tensor(y, requires_grad=False)\n",
        "      x = torch.view_as_real(x)\n",
        "      x = torch.reshape(x, (x.shape[0], x.shape[1]*2))\n",
        "      x = x.float()\n",
        "      x.requires_grad=True\n",
        "      return x\n",
        "\n",
        "    def train_encoder(self, val = False):\n",
        "        self.encoder = val\n",
        "        lt = 2\n",
        "        ct = 0\n",
        "        for child in model.children():\n",
        "          if(ct >= 2):\n",
        "            break\n",
        "          ct += 1\n",
        "          for param in child.parameters():\n",
        "            param.requires_grad=val\n",
        "\n",
        "    def forward(self, x):\n",
        "        # Pass the input tensor through each of our operations\n",
        "        # y = x\n",
        "        x = self.linear1(x)\n",
        "        x = self.linear2(x)\n",
        "        if (self.encoder == False):\n",
        "          x = self.channel(x)\n",
        "        else:\n",
        "          x = self.tren_layer(x)\n",
        "        x = self.linear3(x)\n",
        "        x = self.linear4(x)\n",
        "        x = self.output(x)\n",
        "        \n",
        "        return x"
      ],
      "execution_count": 330,
      "outputs": []
    },
    {
      "cell_type": "code",
      "metadata": {
        "id": "dr8NSJuy2LBO"
      },
      "source": [
        "model = Network()\n",
        "lr = 5e-4\n",
        "optimizer = optim.Adam(model.parameters(), lr = lr)\n",
        "criterion = nn.BCELoss()"
      ],
      "execution_count": 331,
      "outputs": []
    },
    {
      "cell_type": "code",
      "metadata": {
        "colab": {
          "base_uri": "https://localhost:8080/",
          "height": 283
        },
        "id": "3cWpIfWQ3ZDH",
        "outputId": "5eb0ca8e-3880-4286-ba03-7b1c8e78853d"
      },
      "source": [
        "#training encoder\n",
        "losses = []\n",
        "epoches = 100\n",
        "model.train_encoder(True)\n",
        "for epoch in range(epochs):\n",
        "  optimizer.zero_grad()\n",
        "  x = torch.tensor(np.random.randint(0, 2, (100, 2)), dtype = torch.float32)\n",
        "  pred = model(x)\n",
        "  loss = criterion(pred, x)\n",
        "  losses.append(loss.item())\n",
        "  loss.backward()\n",
        "  optimizer.step()\n",
        "plt.plot(np.arange(len(losses)), losses)"
      ],
      "execution_count": 332,
      "outputs": [
        {
          "output_type": "execute_result",
          "data": {
            "text/plain": [
              "[<matplotlib.lines.Line2D at 0x7f27a901ccc0>]"
            ]
          },
          "metadata": {
            "tags": []
          },
          "execution_count": 332
        },
        {
          "output_type": "display_data",
          "data": {
            "image/png": "[encoded data removed]",
            "text/plain": [
              "<Figure size 432x288 with 1 Axes>"
            ]
          },
          "metadata": {
            "tags": [],
            "needs_background": "light"
          }
        }
      ]
    },
    {
      "cell_type": "code",
      "metadata": {
        "colab": {
          "base_uri": "https://localhost:8080/",
          "height": 283
        },
        "id": "sAb6vOUf6gqC",
        "outputId": "4659c699-8e35-4c7f-d355-a086e8bcaa4f"
      },
      "source": [
        "#training decoder with AWGN\n",
        "lr = 5e-6\n",
        "epochs = 200\n",
        "batch_size = 50\n",
        "model.train_encoder(False)\n",
        "optimizer = optim.Adam(model.parameters(), lr = lr)\n",
        "criterion = nn.BCELoss()\n",
        "losses = []\n",
        "for epoch in range(epochs):\n",
        "  batch_loss = []\n",
        "  for batch in range(batch_size):\n",
        "    optimizer.zero_grad()\n",
        "    x = torch.tensor(np.random.randint(0, 2, (101, 2)), dtype = torch.float32)\n",
        "    pred = model(x)\n",
        "    loss = criterion(pred, x)\n",
        "    batch_loss.append(loss.item())\n",
        "    loss.backward()\n",
        "    optimizer.step()\n",
        "  losses.append(sum(batch_loss)/len(batch_loss))\n",
        "plt.plot(np.arange(len(losses)), losses)"
      ],
      "execution_count": 333,
      "outputs": [
        {
          "output_type": "execute_result",
          "data": {
            "text/plain": [
              "[<matplotlib.lines.Line2D at 0x7f27a879cbe0>]"
            ]
          },
          "metadata": {
            "tags": []
          },
          "execution_count": 333
        },
        {
          "output_type": "display_data",
          "data": {
            "image/png": "[encoded data removed]",
            "text/plain": [
              "<Figure size 432x288 with 1 Axes>"
            ]
          },
          "metadata": {
            "tags": [],
            "needs_background": "light"
          }
        }
      ]
    },
    {
      "cell_type": "code",
      "metadata": {
        "colab": {
          "base_uri": "https://localhost:8080/"
        },
        "id": "b8uM0u4dHk8e",
        "outputId": "935da9a8-d7ab-4e3e-b3aa-b4e141293484"
      },
      "source": [
        "target_dir = '/content/drive/MyDrive/Antenna/project/'\n",
        "# del input\n",
        "i = input()\n",
        "torch.save(model, target_dir + 'weights/model/' + i + '.pt')\n",
        "torch.save(model, target_dir + 'weights/optimizer/' + i + '.pt')"
      ],
      "execution_count": 334,
      "outputs": [
        {
          "output_type": "stream",
          "text": [
            "2\n"
          ],
          "name": "stdout"
        }
      ]
    },
    {
      "cell_type": "code",
      "metadata": {
        "id": "ptu0Q1IYHn3V"
      },
      "source": [
        ""
      ],
      "execution_count": null,
      "outputs": []
    }
  ]
}